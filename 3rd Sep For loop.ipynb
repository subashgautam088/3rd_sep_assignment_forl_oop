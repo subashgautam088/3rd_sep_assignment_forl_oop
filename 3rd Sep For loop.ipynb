{
 "cells": [
  {
   "cell_type": "code",
   "execution_count": 1,
   "id": "10119998-2212-4b01-a8f2-d9ea540158a5",
   "metadata": {},
   "outputs": [],
   "source": [
    "##   FOR Lopp"
   ]
  },
  {
   "cell_type": "markdown",
   "id": "35096455-f9ff-49ad-ba95-27dbd23fbb4e",
   "metadata": {},
   "source": [
    "BASIC LEVEL"
   ]
  },
  {
   "cell_type": "code",
   "execution_count": 2,
   "id": "0738b95a-64c7-47f6-8a41-ec297be3d106",
   "metadata": {},
   "outputs": [
    {
     "name": "stdout",
     "output_type": "stream",
     "text": [
      "NUmbers 1-10 are :\n",
      "1\n",
      "2\n",
      "3\n",
      "4\n",
      "5\n",
      "6\n",
      "7\n",
      "8\n",
      "9\n",
      "10\n"
     ]
    }
   ],
   "source": [
    "##  1\n",
    "print(\"NUmbers 1-10 are :\")\n",
    "for i in range(1,11):     #Use range function to get number from 1-11 and for loop used to iterate number\n",
    "  print(i)"
   ]
  },
  {
   "cell_type": "code",
   "execution_count": 4,
   "id": "4b7045bc-5886-4d74-bc09-baff879f8df8",
   "metadata": {},
   "outputs": [
    {
     "name": "stdout",
     "output_type": "stream",
     "text": [
      "The sum of all numbers in list are:  231\n"
     ]
    }
   ],
   "source": [
    "##  2\n",
    "list_1=[22,11,33,44,55,66]\n",
    "add_item=0   # make variable \n",
    "for item in list_1:\n",
    "  \tadd_item +=item\n",
    "print(\"The sum of all numbers in list are: \",add_item)"
   ]
  },
  {
   "cell_type": "code",
   "execution_count": 5,
   "id": "a5943806-df5b-4ec8-bb61-d958285be805",
   "metadata": {},
   "outputs": [
    {
     "name": "stdout",
     "output_type": "stream",
     "text": [
      "sllikswp"
     ]
    }
   ],
   "source": [
    "##  3\n",
    "string_1=\"pwskills\"\n",
    "# Start the index from last index and go in reverse direction (-1)\n",
    "for str_2 in range(len(string_1)-1,-1,-1):\n",
    "  \tprint(string_1[str_2],end= \"\")"
   ]
  },
  {
   "cell_type": "code",
   "execution_count": 6,
   "id": "eab1d90e-e9c6-4d64-9946-7706fc09649c",
   "metadata": {},
   "outputs": [
    {
     "name": "stdout",
     "output_type": "stream",
     "text": [
      "\n",
      "Factorial of 5 is 120\n"
     ]
    }
   ],
   "source": [
    "##  4\n",
    "num =5\n",
    "\n",
    "# Initialize the factorial variable to 1\n",
    "factorial = 1\n",
    "\n",
    "# Calculate factorial using a for loop\n",
    "for i in range(1, num + 1):\n",
    "    factorial *= i\n",
    "\n",
    "print(\"\\nFactorial of\", num, \"is\", factorial)"
   ]
  },
  {
   "cell_type": "code",
   "execution_count": 7,
   "id": "12ae3317-66a4-4941-a86a-fd472c956f54",
   "metadata": {},
   "outputs": [
    {
     "name": "stdin",
     "output_type": "stream",
     "text": [
      "Enter a number to get its table : 4\n"
     ]
    },
    {
     "name": "stdout",
     "output_type": "stream",
     "text": [
      "4 X 1 = 4\n",
      "4 X 2 = 8\n",
      "4 X 3 = 12\n",
      "4 X 4 = 16\n",
      "4 X 5 = 20\n",
      "4 X 6 = 24\n",
      "4 X 7 = 28\n",
      "4 X 8 = 32\n",
      "4 X 9 = 36\n",
      "4 X 10 = 40\n"
     ]
    }
   ],
   "source": [
    "##  5\n",
    "num_2=int(input(\"Enter a number to get its table :\"))\n",
    "for i in range(1,11):\n",
    " \tprint(num_2,\"X\",i,\"=\",num_2*i)"
   ]
  },
  {
   "cell_type": "code",
   "execution_count": 8,
   "id": "871ecb40-9407-40d2-ad9c-d51d20ef7246",
   "metadata": {},
   "outputs": [
    {
     "name": "stdout",
     "output_type": "stream",
     "text": [
      "The count of even number is 4\n",
      "The count of odd number is 5\n"
     ]
    }
   ],
   "source": [
    "##  6\n",
    "list_2=[1,2,3,4,5,6,7,89,10]\n",
    "count_even=0 # Variable for counting even number\n",
    "count_odd=0   # Variable for counting odd number\n",
    "for item in list_2:\n",
    "  if (item%2==0):\n",
    "    count_even +=1  # It increase counting of even number\n",
    "  else:\n",
    "    count_odd +=1  # It increase counting of odd number\n",
    "\n",
    "print(\"The count of even number is\",count_even)\n",
    "print(\"The count of odd number is\",count_odd)"
   ]
  },
  {
   "cell_type": "code",
   "execution_count": 9,
   "id": "3818bb48-c2f3-47f7-b89f-bc131fc0cf35",
   "metadata": {},
   "outputs": [
    {
     "name": "stdout",
     "output_type": "stream",
     "text": [
      "The square of  1 is 1\n",
      "The square of  2 is 4\n",
      "The square of  3 is 9\n",
      "The square of  4 is 16\n",
      "The square of  5 is 25\n"
     ]
    }
   ],
   "source": [
    "##  7\n",
    "# Program to print the square of number 1-5\n",
    "for sqr in range(1,6):\n",
    "  sqr_num=sqr*sqr\n",
    "  print(\"The square of \",sqr,\"is\",sqr_num)"
   ]
  },
  {
   "cell_type": "code",
   "execution_count": 11,
   "id": "e2786e67-ed6d-40ee-afcb-132f68f8d11f",
   "metadata": {},
   "outputs": [
    {
     "name": "stdout",
     "output_type": "stream",
     "text": [
      "The length of the string is  22\n"
     ]
    }
   ],
   "source": [
    "##  8\n",
    "# Program to print the length of string\n",
    "string_2=\"Hey hi my name is khan\"\n",
    "len_str=0  # Initialize the length of string is 0\n",
    "for l in string_2:\n",
    "  \tlen_str += 1  # Adding 1 for every character\n",
    "print(\"The length of the string is \",len_str)"
   ]
  },
  {
   "cell_type": "code",
   "execution_count": 12,
   "id": "4ee108d0-6ad4-4488-8a10-334864e70046",
   "metadata": {},
   "outputs": [
    {
     "name": "stdout",
     "output_type": "stream",
     "text": [
      "The average of list item is  50.0\n"
     ]
    }
   ],
   "source": [
    "##  9\n",
    "list_3=[11,23,4,56,77,89,90]\n",
    "total_sum=0\n",
    "count=0  # Counting the number of item in list\n",
    "for item in list_3:\n",
    "  count +=1  # Count the item in list\n",
    "  total_sum =(total_sum+ item) # Total sum of item\n",
    "\n",
    "avg_list=total_sum/count # Average of list item\n",
    "\n",
    "print(\"The average of list item is \",avg_list)"
   ]
  },
  {
   "cell_type": "code",
   "execution_count": 13,
   "id": "77d49d1e-2bd7-4809-8575-adcb92b81ce8",
   "metadata": {},
   "outputs": [
    {
     "name": "stdin",
     "output_type": "stream",
     "text": [
      "Enter the number : 10\n"
     ]
    },
    {
     "name": "stdout",
     "output_type": "stream",
     "text": [
      "Fibonacci Series: [0, 1, 1, 2, 3, 5, 8, 13, 21, 34]\n",
      "The fibonacci number is : 34\n"
     ]
    }
   ],
   "source": [
    "##  10\n",
    "\n",
    "n = int(input(\"Enter the number :\"))\n",
    "\n",
    "# Initialize the first two Fibonacci numbers\n",
    "fib_series = [0, 1]\n",
    "\n",
    "# Generate Fibonacci numbers using a for loop\n",
    "for i in range(2, n):\n",
    "    # Calculate the next Fibonacci number by summing the last two numbers in the series\n",
    "    next_number = fib_series[-1] + fib_series[-2]\n",
    "    # Add the next Fibonacci number to the series\n",
    "    fib_series.append(next_number)\n",
    "\n",
    "# Print the generated Fibonacci series\n",
    "print(\"Fibonacci Series:\",fib_series)\n",
    "print(\"The fibonacci number is :\",next_number)"
   ]
  },
  {
   "cell_type": "markdown",
   "id": "496577f7-b66f-4f71-bb13-7904fed29d1a",
   "metadata": {},
   "source": [
    "INTERMEDIATE NUMBER"
   ]
  },
  {
   "cell_type": "code",
   "execution_count": 1,
   "id": "8f58e6fe-f524-4bf4-8e17-d884df672e39",
   "metadata": {},
   "outputs": [
    {
     "name": "stdout",
     "output_type": "stream",
     "text": [
      "The list contain the duplicate.\n"
     ]
    }
   ],
   "source": [
    "##  11\n",
    "list_4=[1,2,3,2,1,56,78,9]\n",
    "has_duplicate=False\n",
    "for num in list_4:\n",
    "# If the count of the current number in the list is greater than 1, it's a duplicate\n",
    "  if list_4.count(num) > 1:\n",
    "    has_duplicate=True\n",
    "    break\n",
    "    \n",
    "if has_duplicate:\n",
    "  \tprint(\"The list contain the duplicate.\")\n",
    "else:\n",
    "  \tprint(\"The list didn't contain the duplicate.\")"
   ]
  },
  {
   "cell_type": "code",
   "execution_count": 3,
   "id": "ac4e5233-e3cd-42dd-a108-2fa542ae7ac4",
   "metadata": {},
   "outputs": [
    {
     "name": "stdin",
     "output_type": "stream",
     "text": [
      "Enter starting point : 1\n",
      "Enter the ending point for prime number : 10\n"
     ]
    },
    {
     "name": "stdout",
     "output_type": "stream",
     "text": [
      "Prime numbers in the range 1 to 10 are:\n",
      "2\n",
      "3\n",
      "5\n",
      "7\n"
     ]
    }
   ],
   "source": [
    "##  12\n",
    "# Get input for the range of numbers to get prme numbers\n",
    "start = int(input(\"Enter starting point :\"))\n",
    "end = int(input(\"Enter the ending point for prime number :\"))\n",
    "\n",
    "# Function to check if a number is prime\n",
    "def is_prime(number):\n",
    "    if number <= 1:\n",
    "        return False\n",
    "    for i in range(2, int(number**0.5) + 1):\n",
    "        if number % i == 0:\n",
    "            return False\n",
    "    return True\n",
    "\n",
    "# Print prime numbers in the given range using a for loop\n",
    "print(\"Prime numbers in the range\", start, \"to\", end, \"are:\")\n",
    "for num in range(start, end + 1):\n",
    "    if is_prime(num):\n",
    "        print(num)"
   ]
  },
  {
   "cell_type": "code",
   "execution_count": 4,
   "id": "3bc83985-c22c-4850-b4db-48a3d5e8d83b",
   "metadata": {},
   "outputs": [
    {
     "name": "stdout",
     "output_type": "stream",
     "text": [
      "The number of vowels number in string_4 is  8\n"
     ]
    }
   ],
   "source": [
    "##  13\n",
    "string_3=\"Hey It is a pwskills course\"\n",
    "vowel=\"aeiouAEIOU\"\n",
    "count_vowel=0\n",
    "for str_ing in string_3:  # Iterate the letter \n",
    "  if str_ing in vowel: # Checking the vowel letter \n",
    "    count_vowel +=1\n",
    "\n",
    "print(\"The number of vowels number in string_4 is \",count_vowel)"
   ]
  },
  {
   "cell_type": "code",
   "execution_count": 5,
   "id": "26b52f72-61cd-4510-a516-094e25149d7c",
   "metadata": {},
   "outputs": [
    {
     "name": "stdout",
     "output_type": "stream",
     "text": [
      "Maximum element in the 2D list is: 89\n"
     ]
    }
   ],
   "source": [
    "##  14\n",
    "# Example 2D list\n",
    "matrix = [\n",
    "    [23, 56, 78],\n",
    "    [12, 45, 67],\n",
    "    [34, 89, 21]\n",
    "]\n",
    "\n",
    "# Initialize the maximum element to the minimum possible integer value\n",
    "max_element = float('-inf')\n",
    "\n",
    "# Iterate through the 2D list using nested for loops\n",
    "for row in matrix:\n",
    "    for element in row:\n",
    "        # If the current element is greater than the current max_element, update max_element\n",
    "        if element > max_element:\n",
    "            max_element = element\n",
    "\n",
    "# Print the maximum element in the 2D list\n",
    "print(\"Maximum element in the 2D list is:\", max_element)"
   ]
  },
  {
   "cell_type": "code",
   "execution_count": 7,
   "id": "a4b96e9c-4f56-458a-be6c-47f85bbb25a7",
   "metadata": {},
   "outputs": [
    {
     "name": "stdout",
     "output_type": "stream",
     "text": [
      "List after removing all occurrences of 2 : [1, 3, 4, 5, 6]\n"
     ]
    }
   ],
   "source": [
    "##  15\n",
    "my_list = [1, 2, 3, 4, 2, 5, 2, 6]\n",
    "# Function to remove all occurrences of a specific element from a list\n",
    "def remove_element(input_list, element_to_remove):\n",
    "    # Use a for loop to iterate through the list and remove the specified element\n",
    "    for item in input_list[:]:  # Use list slicing to create a copy of the original list\n",
    "        if item == element_to_remove:\n",
    "            input_list.remove(item)\n",
    "\n",
    "\n",
    "# Element to remove\n",
    "element_to_remove = 2\n",
    "\n",
    "# Call the function to remove all occurrences of the specified element\n",
    "remove_element(my_list, element_to_remove)\n",
    "\n",
    "# Print the modified list\n",
    "print(\"List after removing all occurrences of\", element_to_remove, \":\", my_list)"
   ]
  },
  {
   "cell_type": "code",
   "execution_count": 8,
   "id": "bfaf18b2-3de8-472b-87cb-85d65bb012d0",
   "metadata": {},
   "outputs": [
    {
     "name": "stdout",
     "output_type": "stream",
     "text": [
      "1 x 1 = 1\n",
      "1 x 2 = 2\n",
      "1 x 3 = 3\n",
      "1 x 4 = 4\n",
      "1 x 5 = 5\n",
      "1 x 6 = 6\n",
      "1 x 7 = 7\n",
      "1 x 8 = 8\n",
      "1 x 9 = 9\n",
      "1 x 10 = 10\n",
      "\n",
      "2 x 1 = 2\n",
      "2 x 2 = 4\n",
      "2 x 3 = 6\n",
      "2 x 4 = 8\n",
      "2 x 5 = 10\n",
      "2 x 6 = 12\n",
      "2 x 7 = 14\n",
      "2 x 8 = 16\n",
      "2 x 9 = 18\n",
      "2 x 10 = 20\n",
      "\n",
      "3 x 1 = 3\n",
      "3 x 2 = 6\n",
      "3 x 3 = 9\n",
      "3 x 4 = 12\n",
      "3 x 5 = 15\n",
      "3 x 6 = 18\n",
      "3 x 7 = 21\n",
      "3 x 8 = 24\n",
      "3 x 9 = 27\n",
      "3 x 10 = 30\n",
      "\n",
      "4 x 1 = 4\n",
      "4 x 2 = 8\n",
      "4 x 3 = 12\n",
      "4 x 4 = 16\n",
      "4 x 5 = 20\n",
      "4 x 6 = 24\n",
      "4 x 7 = 28\n",
      "4 x 8 = 32\n",
      "4 x 9 = 36\n",
      "4 x 10 = 40\n",
      "\n",
      "5 x 1 = 5\n",
      "5 x 2 = 10\n",
      "5 x 3 = 15\n",
      "5 x 4 = 20\n",
      "5 x 5 = 25\n",
      "5 x 6 = 30\n",
      "5 x 7 = 35\n",
      "5 x 8 = 40\n",
      "5 x 9 = 45\n",
      "5 x 10 = 50\n",
      "\n"
     ]
    }
   ],
   "source": [
    "##  16\n",
    "# Print multiplication table using nested for loops\n",
    "for i in range(1, 6):  # Outer loop for numbers 1 to 5\n",
    "    for j in range(1, 11):  # Inner loop for multiplying by numbers 1 to 10\n",
    "        print(i, \"x\", j, \"=\", i * j)\n",
    "    print()  # Print an empty line after each multiplication table"
   ]
  },
  {
   "cell_type": "code",
   "execution_count": 9,
   "id": "29f966ad-4a43-4a80-a898-15e5c8bee535",
   "metadata": {},
   "outputs": [
    {
     "name": "stdout",
     "output_type": "stream",
     "text": [
      "The celsius temperature list : [37.0, 39.333333333333336, 50.55555555555556, 55.55555555555556, 0.0]\n"
     ]
    }
   ],
   "source": [
    "##  17\n",
    "fahrenheit_temp_list=[98.6,102.8,123,132,32]\n",
    "celsius_temp_list=[]\n",
    "for temp in fahrenheit_temp_list:\n",
    "  # Conversion formula: Celsius = (Fahrenheit - 32) * 5/9\n",
    "  celsius_temp = (temp - 32) * 5/9\n",
    "   # Add the converted temperature to the celsius_temp_list\n",
    "  celsius_temp_list.append(celsius_temp)\n",
    "\n",
    "print(\"The celsius temperature list :\",celsius_temp_list)"
   ]
  },
  {
   "cell_type": "code",
   "execution_count": 10,
   "id": "209e1656-1610-451c-94f4-4857a71d0818",
   "metadata": {},
   "outputs": [
    {
     "name": "stdout",
     "output_type": "stream",
     "text": [
      "The common elements list : [3, 4, 7]\n"
     ]
    }
   ],
   "source": [
    "##  18\n",
    "list_5=[1,2,3,4,56,7,8]\n",
    "list_6=[3,4,5,6,7,89,0]\n",
    "common_elements_list=[]\n",
    "for elements in list_5: #Iterate the item from the list one by one.\n",
    "  if elements in list_6:\n",
    "    # Add the common elements in common_elements_list\n",
    "    common_elements_list.append(elements)\n",
    "\n",
    "print(\"The common elements list :\",common_elements_list)"
   ]
  },
  {
   "cell_type": "code",
   "execution_count": 11,
   "id": "ae867b46-a6cf-4374-996e-2352b95b09a6",
   "metadata": {},
   "outputs": [
    {
     "name": "stdout",
     "output_type": "stream",
     "text": [
      "*  \n",
      "* *  \n",
      "* * *  \n",
      "* * * *  \n",
      "* * * * *  \n"
     ]
    }
   ],
   "source": [
    "##  19\n",
    "for i in range(1,6):\n",
    "  # Outer loop for the number of rows\n",
    "  for j in range(1,i+1):\n",
    "    # Inner loop for printing '*' characters\n",
    "    print(\"*\",end=\" \")\n",
    "  print(\" \") # Used to print he next line"
   ]
  },
  {
   "cell_type": "code",
   "execution_count": 12,
   "id": "2b9a9964-36b2-4a9e-8efb-8bd4c3216f09",
   "metadata": {},
   "outputs": [
    {
     "name": "stdout",
     "output_type": "stream",
     "text": [
      "GCD of 34 and 56 is 2\n"
     ]
    }
   ],
   "source": [
    "##  20\n",
    "num_1=34\n",
    "num_2=56\n",
    "# Function to find the GCD of two numbers\n",
    "def gcd(a, b):\n",
    "    # Iterate from 1 to the minimum of the two numbers\n",
    "    for i in range(1, min(a, b) + 1):\n",
    "        # Check if the current number 'i' divides both 'a' and 'b'\n",
    "        if a % i == 0 and b % i == 0:\n",
    "            gcd_value = i  # Update the GCD if 'i' divides both 'a' and 'b'\n",
    "    return gcd_value\n",
    "\n",
    "result = gcd(num_1, num_2)\n",
    "print(\"GCD of\", num_1, \"and\", num_2, \"is\", result)"
   ]
  },
  {
   "cell_type": "markdown",
   "id": "00d4e9a2-84ab-464a-b88f-87df88679373",
   "metadata": {},
   "source": [
    "ADVANCED LEVEL"
   ]
  },
  {
   "cell_type": "code",
   "execution_count": 13,
   "id": "bb78763a-9e18-48fc-8432-89b4c4e3dd95",
   "metadata": {},
   "outputs": [
    {
     "name": "stdout",
     "output_type": "stream",
     "text": [
      "('Sum :', 100)\n"
     ]
    }
   ],
   "source": [
    "##  21\n",
    "list_8 = [1,2,3,4,56,7,8,9,10]\n",
    "# Using sum() function to get the addition of list item.\n",
    "sum_list=(\"Sum :\",sum([i for i in list_8]) )\n",
    "print(sum_list)"
   ]
  },
  {
   "cell_type": "code",
   "execution_count": 14,
   "id": "5471c15e-7205-48ac-853a-b971392b6f13",
   "metadata": {},
   "outputs": [
    {
     "name": "stdout",
     "output_type": "stream",
     "text": [
      "Prime factors of 10 are: [2, 5]\n"
     ]
    }
   ],
   "source": [
    "##  22\n",
    "num_3=10\n",
    "# Function to find prime factors of a number\n",
    "def prime_factors(number):\n",
    "    factors = []\n",
    "    # Iterate from 2 to the number (inclusive)\n",
    "    for i in range(2, number + 1):\n",
    "        # Check if i is a factor of the number\n",
    "        while number % i == 0:\n",
    "            factors.append(i)  # If yes, i is a prime factor\n",
    "            number //= i  # Divide the number by i\n",
    "    return factors\n",
    "\n",
    "# Find and print the prime factors using list comprehension\n",
    "factors = prime_factors(num_3)\n",
    "print(f\"Prime factors of {num_3} are: {factors}\")"
   ]
  },
  {
   "cell_type": "code",
   "execution_count": 16,
   "id": "7ede3a06-f771-419e-ad27-846548d3f35f",
   "metadata": {},
   "outputs": [
    {
     "name": "stdout",
     "output_type": "stream",
     "text": [
      "Unique elements in the list:  [3, 5678, 245, 22, 23, 90, 31]\n"
     ]
    }
   ],
   "source": [
    "##  23\n",
    "# Get input from the user, assuming comma-separated elements\n",
    "input_list =[22,3,31,23,3,245,3,5678,90]\n",
    "\n",
    "# Split the input string into a list of strings, then convert them to integers\n",
    "original_list = [(num) for num in input_list]\n",
    "\n",
    "# Extract unique elements using list comprehension\n",
    "unique_elements = list(set(original_list))\n",
    "\n",
    "# Print the unique elements\n",
    "print(\"Unique elements in the list: \",unique_elements)"
   ]
  },
  {
   "cell_type": "code",
   "execution_count": 17,
   "id": "d48151b1-634d-48fe-b3bc-e79600cc87db",
   "metadata": {},
   "outputs": [
    {
     "name": "stdout",
     "output_type": "stream",
     "text": [
      "Palindromic numbers up to 100 are:\n",
      "[1, 2, 3, 4, 5, 6, 7, 8, 9, 11, 22, 33, 44, 55, 66, 77, 88, 99]\n"
     ]
    }
   ],
   "source": [
    "##  24\n",
    "limit = 100 \n",
    "# Function to check if a number is palindrome\n",
    "def is_palindrome(number):\n",
    "    return str(number) == str(number)[::-1]\n",
    "  \n",
    "\n",
    "# Generate a list of palindromic numbers up to the specified limit using list comprehension\n",
    "palindromic_numbers = [num for num in range(1, limit + 1) if is_palindrome(num)]\n",
    "\n",
    "# Print the list of palindromic numbers\n",
    "print(\"Palindromic numbers up to\", limit, \"are:\")\n",
    "print(palindromic_numbers)"
   ]
  },
  {
   "cell_type": "code",
   "execution_count": 18,
   "id": "cb129a11-ec0f-42fb-ad28-e29aaa39132e",
   "metadata": {},
   "outputs": [
    {
     "name": "stdout",
     "output_type": "stream",
     "text": [
      "Flattened list: [1, 2, 3, 4, 5, 6, 7, 8, 9]\n"
     ]
    }
   ],
   "source": [
    "##  25\n",
    "# Nested list \n",
    "nested_list = [[1, 2, 3], [4, 5], [6, 7, 8, 9]]\n",
    "\n",
    "# Flatten the nested list using list comprehension\n",
    "flattened_list = [item for sublist in nested_list for item in sublist]\n",
    "\n",
    "# Print the flattened list\n",
    "print(\"Flattened list:\", flattened_list)"
   ]
  },
  {
   "cell_type": "code",
   "execution_count": 19,
   "id": "5cb4945f-c9df-4880-a4f7-03c10f2a20e5",
   "metadata": {},
   "outputs": [
    {
     "name": "stdout",
     "output_type": "stream",
     "text": [
      "Sum of even numbers: 130\n",
      "Sum of odd numbers: 116\n"
     ]
    }
   ],
   "source": [
    "##  26\n",
    "list_10=[11,12,1,33,44,55,66,7,8,9]\n",
    "\n",
    "# Calculate the sum of even and odd numbers using list comprehension\n",
    "sum_even = sum([num for num in list_10 if num % 2 == 0])\n",
    "sum_odd = sum([num for num in list_10 if num % 2 != 0])\n",
    "\n",
    "# Print the sums\n",
    "print(\"Sum of even numbers:\", sum_even)\n",
    "print(\"Sum of odd numbers:\", sum_odd)"
   ]
  },
  {
   "cell_type": "code",
   "execution_count": 20,
   "id": "f36f7c08-d8b6-4af0-99c8-ee4f86bd28db",
   "metadata": {},
   "outputs": [
    {
     "name": "stdout",
     "output_type": "stream",
     "text": [
      "The square of odd number is  [1, 9, 25, 49, 81]\n"
     ]
    }
   ],
   "source": [
    "##  27\n",
    "# Program to print square of odd number \n",
    "list_11=[i*i for i in range(1,11) if i%2!=0]\n",
    "print(\"The square of odd number is \",list_11)"
   ]
  },
  {
   "cell_type": "code",
   "execution_count": 22,
   "id": "bbdf9aa0-15a8-471e-ae27-39dbb684b439",
   "metadata": {},
   "outputs": [
    {
     "name": "stdout",
     "output_type": "stream",
     "text": [
      "{'a': 1, 'b': 2, 'c': 3}\n"
     ]
    }
   ],
   "source": [
    "##  28\n",
    "# Two lists to be combined into a dictionary\n",
    "key = ['a', 'b', 'c']\n",
    "value = [1, 2, 3]\n",
    "\n",
    "# Using dictionary comprehension to combine the lists into a dictionary\n",
    "combined_dict = {key[i]: value[i] for i in range(min(len(key), len(value)))}\n",
    "\n",
    "# Print the resulting dictionary\n",
    "print(combined_dict)"
   ]
  },
  {
   "cell_type": "code",
   "execution_count": 23,
   "id": "8522933b-2aa7-4b6c-b560-16b3c919b0d6",
   "metadata": {},
   "outputs": [
    {
     "name": "stdout",
     "output_type": "stream",
     "text": [
      "The vowel letter from strings_3 are :\n",
      "['I', 'a', 'i', 'o', 'u', 'e', 'a', 'o', 'a', 'a', 'i', 'e', 'e']\n"
     ]
    }
   ],
   "source": [
    "##   29\n",
    "strings_3=\"Its a pwskillls course man for data science\"\n",
    "vowels = \"aeiouAEIOU\" # Vowel letters\n",
    "# Extract vowel letter from sting\n",
    "extract_vowels=[v for v in strings_3 if v in vowels ]\n",
    "# Print the vowels letter in list .\n",
    "print(\"The vowel letter from strings_3 are :\")\n",
    "print(extract_vowels)"
   ]
  },
  {
   "cell_type": "code",
   "execution_count": 24,
   "id": "d2afc5d5-b2f5-42dd-9404-266f5a7807e8",
   "metadata": {},
   "outputs": [
    {
     "name": "stdout",
     "output_type": "stream",
     "text": [
      "['123', '456', '789', '']\n"
     ]
    }
   ],
   "source": [
    "##  30\n",
    "string_list = ['abc123', 'def456', 'ghi789', 'jkl!@#']\n",
    "\n",
    "# Using list comprehension to remove non-numeric characters from the strings\n",
    "result_strings = [''.join(filter(str.isdigit, string)) for string in string_list]\n",
    "\n",
    "print(result_strings)"
   ]
  },
  {
   "cell_type": "markdown",
   "id": "f56f08f0-0ab5-42c5-b143-04d46cf0ffc9",
   "metadata": {},
   "source": [
    "CHALLENGE LEVEL "
   ]
  },
  {
   "cell_type": "code",
   "execution_count": 27,
   "id": "c5ac09d0-59b2-4c93-bb36-1da676017701",
   "metadata": {},
   "outputs": [
    {
     "name": "stdin",
     "output_type": "stream",
     "text": [
      "enter the limit to produce prime number : 50\n"
     ]
    },
    {
     "name": "stdout",
     "output_type": "stream",
     "text": [
      "Prime number upto  50 are : [2, 3, 5, 7, 11, 13, 17, 19, 23, 29, 31, 37, 41, 43, 47]\n"
     ]
    }
   ],
   "source": [
    "##  31\n",
    "# Get the limit up to which prime numbers should be generated\n",
    "limit=int(input(\"enter the limit to produce prime number :\"))\n",
    "def is_prime(num):\n",
    "  if num<=1:\n",
    "    return False\n",
    "  for i in range(2,int(num**0.5)+1):\n",
    "    if num% i == 0:\n",
    "      return False\n",
    "  return True\n",
    "  \n",
    "# Function to generate a list of prime numbers up to a limit\n",
    "def generate_prime_list(limit):\n",
    "  \treturn [num for num in range(2,limit+1) if is_prime(num)]\n",
    "  \n",
    " # Generate the list of prime numbers\n",
    "prime_numbers =generate_prime_list(limit)\n",
    "\n",
    "print(\"Prime number upto \",limit , \"are :\",prime_numbers)"
   ]
  },
  {
   "cell_type": "code",
   "execution_count": 29,
   "id": "b40e8e64-7654-4518-b77b-d618a34054f4",
   "metadata": {},
   "outputs": [
    {
     "name": "stdin",
     "output_type": "stream",
     "text": [
      "enter the limit to get the Pythogareon triplets : 10\n"
     ]
    },
    {
     "name": "stdout",
     "output_type": "stream",
     "text": [
      "Pythagorean triplets up to 10 are: [(3, 4, 5), (6, 8, 10)]\n"
     ]
    }
   ],
   "source": [
    "##  32\n",
    "# Get the limit up to which Pythagorean triplets should be generated\n",
    "limit = int(input(\"enter the limit to get the Pythogareon triplets :\"))\n",
    "    \n",
    "# Function to generate Pythagorean triplets up to a limit using list comprehension\n",
    "def generate_pythagorean_triplets(limit):\n",
    "    triplets = [(a, b, c) for a in range(1, limit+1) \n",
    "                for b in range(a, limit+1) \n",
    "                for c in range(b, limit+1) \n",
    "                if a**2 + b**2 == c**2]\n",
    "    return triplets\n",
    "\n",
    "# Main function to test the program\n",
    "if __name__ == \"__main__\":\n",
    "   \n",
    "    # Generate the list of Pythagorean triplets\n",
    "    pythagorean_triplets = generate_pythagorean_triplets(limit)\n",
    "    \n",
    "    # Print the list of Pythagorean triplets\n",
    "    print(\"Pythagorean triplets up to\", limit, \"are:\", pythagorean_triplets)"
   ]
  },
  {
   "cell_type": "code",
   "execution_count": 30,
   "id": "e00c7f79-e9a9-4968-8f20-7812769c1505",
   "metadata": {},
   "outputs": [
    {
     "name": "stdout",
     "output_type": "stream",
     "text": [
      "All possible combinations of [1, 2, 3] and ['a', 'b', 'c'] are:\n",
      "[(1, 'a'), (1, 'b'), (1, 'c'), (2, 'a'), (2, 'b'), (2, 'c'), (3, 'a'), (3, 'b'), (3, 'c')]\n"
     ]
    }
   ],
   "source": [
    "##  33\n",
    "from itertools import product\n",
    "\n",
    "# Function to generate all possible combinations of two lists using list comprehension\n",
    "def generate_combinations(list_11, list_12):\n",
    "    return [(x, y) for x, y in product(list_11, list_12)]\n",
    "\n",
    "\n",
    "# Sample lists\n",
    "list_11 = [1, 2, 3]\n",
    "list_12 = ['a', 'b', 'c']\n",
    "    \n",
    "# Generate the list of all possible combinations\n",
    "combination = generate_combinations(list_11, list_12)\n",
    "    \n",
    "# Print the list of combinations\n",
    "print(\"All possible combinations of\", list_11, \"and\", list_12, \"are:\")\n",
    "print(combination)"
   ]
  },
  {
   "cell_type": "code",
   "execution_count": 31,
   "id": "d8c32541-1825-4d21-8933-9a4c36279e12",
   "metadata": {},
   "outputs": [
    {
     "name": "stdout",
     "output_type": "stream",
     "text": [
      "The mean is : 27.555555555555557\n",
      "Median: 11\n",
      "Mode: [11, 2, 23, 44, 5, 66, 78, 9, 10]\n"
     ]
    }
   ],
   "source": [
    "##   34\n",
    "list_13 = [11,2,23,44,5,66,78,9,10]\n",
    "# Print mean list \n",
    "mean_list=sum([i for i in list_13])\n",
    "mean_value=(mean_list/len(list_13))\n",
    "\n",
    "\n",
    "# Function to calculate median using list comprehension\n",
    "def calculate_median(list_13):\n",
    "    sorted_numbers = sorted(list_13)\n",
    "    n = len(sorted_numbers)\n",
    "    if n % 2 == 0:\n",
    "        return (sorted_numbers[n // 2 - 1] + sorted_numbers[n // 2]) / 2\n",
    "    else:\n",
    "        return sorted_numbers[n // 2]\n",
    "\n",
    "  \n",
    "# Calculate median using list comprehension\n",
    "median = calculate_median(list_13)\n",
    "\n",
    "\n",
    "# Function to calculate mode without using Counter or list comprehension\n",
    "def calculate_mode(list_13):\n",
    "    frequency = {}\n",
    "    for number in list_13:\n",
    "        if number in frequency:\n",
    "            frequency[number] += 1\n",
    "        else:\n",
    "            frequency[number] = 1\n",
    "    \n",
    "    max_frequency = max(frequency.values())\n",
    "    mode = [number for number, freq in frequency.items() if freq == max_frequency]\n",
    "    return mode\n",
    "\n",
    "# Calculate mode without using Counter or list comprehension\n",
    "mode = calculate_mode(list_13)\n",
    "\n",
    "\n",
    "# Print the result\n",
    "print(\"The mean is :\",mean_value)\n",
    "print(\"Median:\", median)\n",
    "print(\"Mode:\", mode)\n"
   ]
  },
  {
   "cell_type": "code",
   "execution_count": 32,
   "id": "8cb57d96-2d49-4751-8079-88430980c17e",
   "metadata": {},
   "outputs": [
    {
     "name": "stdout",
     "output_type": "stream",
     "text": [
      "Pascal's Triangle:\n",
      "[1]\n",
      "[1, 1]\n",
      "[1, 2, 1]\n",
      "[1, 3, 3, 1]\n",
      "[1, 4, 6, 4, 1]\n"
     ]
    }
   ],
   "source": [
    "##    35\n",
    "num_rows=5\n",
    "# Function to generate Pascal's triangle up to a specified number of rows using list comprehension\n",
    "def generate_pascals_triangle(num_rows):\n",
    "    triangle = [[1] * (row + 1) for row in range(num_rows)]\n",
    "    for i in range(2, num_rows):\n",
    "        for j in range(1, i):\n",
    "            triangle[i][j] = triangle[i - 1][j - 1] + triangle[i - 1][j]\n",
    "    return triangle\n",
    "\n",
    "# Generate Pascal's triangle using list comprehension\n",
    "pascals_triangle = generate_pascals_triangle(num_rows)\n",
    "    \n",
    "# Print Pascal's triangle\n",
    "print(\"Pascal's Triangle:\")\n",
    "for row in pascals_triangle:\n",
    "    print(row)"
   ]
  },
  {
   "cell_type": "code",
   "execution_count": 33,
   "id": "fa7f6ea7-7dcb-4d24-8e47-1171315460be",
   "metadata": {},
   "outputs": [
    {
     "name": "stdout",
     "output_type": "stream",
     "text": [
      "Sum of digits of factorials from 1 to 5: [1, 2, 6, 6, 3]\n"
     ]
    }
   ],
   "source": [
    "##  36\n",
    "# Function to calculate factorial\n",
    "def fact(n):\n",
    "    if n == 0 or n == 1:\n",
    "        return 1\n",
    "    else:\n",
    "        return n * fact(n - 1)\n",
    "\n",
    "# Calculate sum of digits of factorial using list comprehension\n",
    "sum_of_digits = [sum(int(digit) for digit in str(fact(number))) for number in range(1, 6)]\n",
    "\n",
    "# Print the results\n",
    "print(\"Sum of digits of factorials from 1 to 5:\", sum_of_digits)"
   ]
  },
  {
   "cell_type": "code",
   "execution_count": 34,
   "id": "476729de-df0c-4718-8164-531c6f2f44a9",
   "metadata": {},
   "outputs": [
    {
     "name": "stdout",
     "output_type": "stream",
     "text": [
      "Longest word in the sentence: Subash\n"
     ]
    }
   ],
   "source": [
    "##  37\n",
    "sentence=\"my self Subash Gautam hain ji.\"\n",
    "def long_word(sentence):\n",
    "  \twords=sentence.split() #split sentence into word\n",
    "  \tlarge_word=max(words, key=lambda word: len(word))  # Find the longest word using list comprehension\n",
    "  \treturn large_word\n",
    "\n",
    "longest_word =long_word(sentence)\n",
    "    \n",
    "# Print the result\n",
    "print(\"Longest word in the sentence:\", longest_word)"
   ]
  },
  {
   "cell_type": "code",
   "execution_count": 36,
   "id": "a499fe61-b528-49ca-9d99-1365ee915b16",
   "metadata": {},
   "outputs": [
    {
     "name": "stdout",
     "output_type": "stream",
     "text": [
      "Strings with more than three vowels: ['examplaa', 'voweliis', 'aeio']\n"
     ]
    }
   ],
   "source": [
    "##  38\n",
    "word_list = [\"hello\", \"world\", \"python\", \"programming\", \"examplaa\", \"voweliis\",\"aeio\"]\n",
    "\n",
    "# Function to count vowels in a string\n",
    "def count_vowels(word):\n",
    "    vowels = \"aeiouAEIOU\"\n",
    "    return sum(1 for char in word if char in vowels)\n",
    "\n",
    "# Function to filter strings with more than three vowels using list comprehension.\n",
    "def filter_str_vowels(words):\n",
    "    return [word for word in words if count_vowels(word) > 3]\n",
    "\n",
    "\n",
    "# Filter strings with more than three vowels using list comprehension\n",
    "filtered_words = filter_str_vowels(word_list)\n",
    "    \n",
    "print(\"Strings with more than three vowels:\", filtered_words)"
   ]
  },
  {
   "cell_type": "code",
   "execution_count": 38,
   "id": "182fb29d-e4c5-480a-a37b-3c6d9d709ca4",
   "metadata": {},
   "outputs": [
    {
     "name": "stdout",
     "output_type": "stream",
     "text": [
      "500500\n"
     ]
    }
   ],
   "source": [
    "##  39\n",
    "# Calculate the sum of the numbers range between(1-1000) by using sum() function and list comperehension.\n",
    "digits_sum=sum([digits for digits in range(1,1001)])\n",
    "print(digits_sum)"
   ]
  },
  {
   "cell_type": "code",
   "execution_count": 40,
   "id": "c01c4f65-e8ec-47ee-a235-9feaf53a8ceb",
   "metadata": {},
   "outputs": [
    {
     "name": "stdin",
     "output_type": "stream",
     "text": [
      "Enter the limit to get prime as well as palindrome number : 102\n"
     ]
    },
    {
     "name": "stdout",
     "output_type": "stream",
     "text": [
      "The number which are prime and palindrome both are : [2, 3, 5, 7, 11, 101]\n"
     ]
    }
   ],
   "source": [
    "##  40\n",
    "# Give the limit to print the palindrome number which is prime number\n",
    "limit=int(input(\"Enter the limit to get prime as well as palindrome number :\"))\n",
    "# Check number is prime or not \n",
    "def is_prime(num):\n",
    "  if (num<=1):\n",
    "    return False\n",
    "  for i in range(2,int(num**0.5)+1):\n",
    "    if num % i == 0:\n",
    "      return False\n",
    "  return True\n",
    "\n",
    "# Check the number is palindrome oe not\n",
    "def is_palindrome(num):\n",
    "  return str(num)==str(num)[::-1]\n",
    "\n",
    "# Checking prime and palindrome both by using list comprehension\n",
    "prime_palindrome=[num for num in range(1,limit) if is_prime(num) and is_palindrome(num)]\n",
    "\n",
    "print(\"The number which are prime and palindrome both are :\",prime_palindrome)"
   ]
  },
  {
   "cell_type": "code",
   "execution_count": null,
   "id": "9f8aef88-a6d3-4673-a8de-f83171d82908",
   "metadata": {},
   "outputs": [],
   "source": []
  }
 ],
 "metadata": {
  "kernelspec": {
   "display_name": "Python 3 (ipykernel)",
   "language": "python",
   "name": "python3"
  },
  "language_info": {
   "codemirror_mode": {
    "name": "ipython",
    "version": 3
   },
   "file_extension": ".py",
   "mimetype": "text/x-python",
   "name": "python",
   "nbconvert_exporter": "python",
   "pygments_lexer": "ipython3",
   "version": "3.10.8"
  }
 },
 "nbformat": 4,
 "nbformat_minor": 5
}
